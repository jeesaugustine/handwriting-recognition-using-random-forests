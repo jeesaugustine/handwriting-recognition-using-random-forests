{
 "cells": [
  {
   "cell_type": "markdown",
   "metadata": {},
   "source": [
    "## Author: `Jees Augustine`\n",
    "### Author handles: [Git] <a href=\"https://github.com/jeesaugustine\">jeesaugustine</a>  [Web]: <a href=\"https://jeesaugustine.github.io\">jeesaugustine.github.io</a>\n",
    "### modules used: [Machine Learning]`sklearn`, [Plotting]`matplotlib, pylab`"
   ]
  },
  {
   "cell_type": "code",
   "execution_count": 191,
   "metadata": {},
   "outputs": [],
   "source": [
    "# I had some inspiration from one of the projects listed at: https://github.com/snazrul1/PyRevolution\n",
    "# Import plotting modules for the image dataset\n",
    "import matplotlib.pyplot as plt\n",
    "import pylab as pl\n",
    "% matplotlib inline\n",
    "from sklearn.datasets import load_digits"
   ]
  },
  {
   "cell_type": "markdown",
   "metadata": {},
   "source": [
    "## A little more on the MNIST handwrittend digits from zip code \n",
    "> There are `1797 grey` scale images in the dataset\n",
    "\n",
    "> Each image has `64` pixels ranging values between `0-255`\n",
    "\n",
    "> Our aim is to classify each image and map it to a target value between `[0 1 2 3 4 5 6 7 8 9]`"
   ]
  },
  {
   "cell_type": "code",
   "execution_count": 192,
   "metadata": {},
   "outputs": [
    {
     "data": {
      "image/png": "[encoded data removed]",
      "text/plain": [
       "<matplotlib.figure.Figure at 0x119485fd0>"
      ]
     },
     "metadata": {},
     "output_type": "display_data"
    },
    {
     "name": "stdout",
     "output_type": "stream",
     "text": [
      "5\n"
     ]
    }
   ],
   "source": [
    "hand_written_digits = load_digits()\n",
    "\n",
    "data = hand_written_digits.data\n",
    "# you can get a good hang of data from this data handle\n",
    "\n",
    "## This gives you a good idea about the target values as ground truth\n",
    "# print(hand_written_digits.target)\n",
    "\n",
    "# Lets verfy this using this function \n",
    "def print_image_and_target(target):\n",
    "    pl.matshow(hand_written_digits.images[target])\n",
    "    pl.show()\n",
    "    print(hand_written_digits.target[target])\n",
    "\n",
    "print_image_and_target(145)"
   ]
  },
  {
   "cell_type": "code",
   "execution_count": 193,
   "metadata": {},
   "outputs": [
    {
     "data": {
      "image/png": "[encoded data removed]",
      "text/plain": [
       "<matplotlib.figure.Figure at 0x11a12a7b8>"
      ]
     },
     "metadata": {},
     "output_type": "display_data"
    }
   ],
   "source": [
    "images_and_labels = list(zip(hand_written_digits.images, hand_written_digits.target))\n",
    "plt.figure(figsize=(5,5))\n",
    "# function to print 15 consecutive images \n",
    "def print_15_images_in_one_frame(start=0):\n",
    "    for index, (image, target) in enumerate(images_and_labels[start:start+15]):\n",
    "        plt.subplot(3, 5, index+1 )\n",
    "        plt.axis('off')\n",
    "        plt.imshow(image, cmap=plt.cm.gray_r, interpolation='nearest')\n",
    "        plt.title('%i' % target)\n",
    "print_15_images_in_one_frame(21)"
   ]
  },
  {
   "cell_type": "code",
   "execution_count": 194,
   "metadata": {},
   "outputs": [],
   "source": [
    "import random\n",
    "from sklearn import ensemble"
   ]
  },
  {
   "cell_type": "code",
   "execution_count": 195,
   "metadata": {},
   "outputs": [],
   "source": [
    "sample_size = len(hand_written_digits.target)\n",
    "data = hand_written_digits.images.reshape(sample_size, -1)\n",
    "target = hand_written_digits.target\n",
    "\n",
    "# Random indices are build for test and train dataset\n",
    "sample_index = random.sample(range(len(data)), int(len(data)/5))\n",
    "validation_index = [i for i in range(len(data)) if i not in sample_index]\n"
   ]
  },
  {
   "cell_type": "code",
   "execution_count": 196,
   "metadata": {},
   "outputs": [],
   "source": [
    "# We separate training images and validation images here into an 80-20 split\n",
    "images_train = [data[i] for i in sample_index]\n",
    "images_val = [data[i] for i in validation_index]"
   ]
  },
  {
   "cell_type": "code",
   "execution_count": 197,
   "metadata": {},
   "outputs": [],
   "source": [
    "# We separate training lables and validation labels here into an 80-20 split\n",
    "lablels_train = [target[i] for i in sample_index]\n",
    "lablels_val = [target[i] for i in validation_index]"
   ]
  },
  {
   "cell_type": "code",
   "execution_count": 198,
   "metadata": {},
   "outputs": [],
   "source": [
    "classifier = ensemble.RandomForestClassifier()\n",
    "classifier.fit(images_train, lablels_train)\n",
    "scores = classifier.score(images_val, lablels_val)"
   ]
  },
  {
   "cell_type": "code",
   "execution_count": 199,
   "metadata": {},
   "outputs": [
    {
     "name": "stdout",
     "output_type": "stream",
     "text": [
      "0.8852573018080667\n"
     ]
    }
   ],
   "source": [
    "print(scores)"
   ]
  },
  {
   "cell_type": "markdown",
   "metadata": {},
   "source": [
    "## Lets do a prediction now on this "
   ]
  },
  {
   "cell_type": "code",
   "execution_count": 200,
   "metadata": {},
   "outputs": [
    {
     "data": {
      "image/png": "[encoded data removed]",
      "text/plain": [
       "<matplotlib.figure.Figure at 0x119bb7780>"
      ]
     },
     "metadata": {},
     "output_type": "display_data"
    },
    {
     "name": "stdout",
     "output_type": "stream",
     "text": [
      "[4]\n"
     ]
    }
   ],
   "source": [
    "def predict_this(index, classifier, data):\n",
    "    '''\n",
    "    making sure the classifier is there as well as the dataset is also present\n",
    "    '''\n",
    "    \n",
    "    assert classifier\n",
    "    assert data.any\n",
    "    pl.gray\n",
    "    pl.matshow(hand_written_digits.images[index])\n",
    "    pl.show()\n",
    "    print(classifier.predict([data[index]]))\n",
    "\n",
    "predict_this(100, classifier, data)"
   ]
  }
 ],
 "metadata": {
  "kernelspec": {
   "display_name": "Python 3",
   "language": "python",
   "name": "python3"
  },
  "language_info": {
   "codemirror_mode": {
    "name": "ipython",
    "version": 3
   },
   "file_extension": ".py",
   "mimetype": "text/x-python",
   "name": "python",
   "nbconvert_exporter": "python",
   "pygments_lexer": "ipython3",
   "version": "3.6.4"
  }
 },
 "nbformat": 4,
 "nbformat_minor": 2
}
